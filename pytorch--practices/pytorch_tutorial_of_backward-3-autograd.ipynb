{
 "cells": [
  {
   "cell_type": "code",
   "execution_count": 1,
   "metadata": {
    "collapsed": true
   },
   "outputs": [],
   "source": [
    "#그래프가 그때마다 동적으로 만들어져. with Variable, loss 그래디언트 자동으로 계산되어서 업데이트. backpropagation"
   ]
  },
  {
   "cell_type": "code",
   "execution_count": 2,
   "metadata": {
    "collapsed": true
   },
   "outputs": [],
   "source": [
    "#dynamic computation graph -- forward- Netword 만드는. backpropagation - 자동으로"
   ]
  },
  {
   "cell_type": "code",
   "execution_count": 3,
   "metadata": {},
   "outputs": [
    {
     "data": {
      "text/plain": [
       "'\\nVariable 은 Tensor를 한번더 감싸 computational graph 하기위해서 한번더 감쌌다.\\nrequires_grad - 미분할거냐 말거냐, volatile\\n\\nrequires_grad = false <- transfer learning에서 이미 학습된 모델은 그대로 두기위해서. ㅇ.ㅇ\\nnn.Linear(512,100) 기본적으로 true\\n\\nVolatile\\n-테스트쪽에서- 학습은 안할때. 메모리 효율.\\n'"
      ]
     },
     "execution_count": 3,
     "metadata": {},
     "output_type": "execute_result"
    }
   ],
   "source": [
    "'''\n",
    "Variable 은 Tensor를 한번더 감싸 computational graph 하기위해서 한번더 감쌌다.\n",
    "requires_grad - 미분할거냐 말거냐, volatile\n",
    "\n",
    "requires_grad = false <- transfer learning에서 이미 학습된 모델은 그대로 두기위해서. ㅇ.ㅇ\n",
    "nn.Linear(512,100) 기본적으로 true\n",
    "\n",
    "Volatile\n",
    "-테스트쪽에서- 학습은 안할때. 메모리 효율.\n",
    "layer 쉽게 쌓을 수있게. - > nn package 풀링이라던지 conv 라던지\n",
    "lossfucntion 도 가져다 쓸수있음.\n",
    "\n",
    "'''"
   ]
  },
  {
   "cell_type": "code",
   "execution_count": 4,
   "metadata": {},
   "outputs": [
    {
     "name": "stdout",
     "output_type": "stream",
     "text": [
      "Variable containing:\n",
      " 3  3\n",
      " 3  3\n",
      "[torch.FloatTensor of size 2x2]\n",
      "\n"
     ]
    }
   ],
   "source": [
    "import torch\n",
    "from torch.autograd import Variable\n",
    "\n",
    "x= Variable(torch.ones(2,2), requires_grad=True)\n",
    "y= x+2\n",
    "print(y)"
   ]
  },
  {
   "cell_type": "code",
   "execution_count": 5,
   "metadata": {},
   "outputs": [
    {
     "name": "stdout",
     "output_type": "stream",
     "text": [
      "<torch.autograd.function.AddConstantBackward object at 0x7f0c0807cc78>\n"
     ]
    }
   ],
   "source": [
    "print(y.grad_fn)"
   ]
  },
  {
   "cell_type": "code",
   "execution_count": 10,
   "metadata": {},
   "outputs": [
    {
     "name": "stdout",
     "output_type": "stream",
     "text": [
      "Variable containing:\n",
      " 243\n",
      "[torch.FloatTensor of size 1]\n",
      "\n"
     ]
    }
   ],
   "source": [
    "z= y*y*3\n",
    "out = z.mean()\n",
    "print(out)"
   ]
  },
  {
   "cell_type": "code",
   "execution_count": 8,
   "metadata": {},
   "outputs": [
    {
     "name": "stdout",
     "output_type": "stream",
     "text": [
      "None\n"
     ]
    }
   ],
   "source": [
    "out.backward()\n",
    "print(y.grad)"
   ]
  },
  {
   "cell_type": "code",
   "execution_count": 9,
   "metadata": {},
   "outputs": [
    {
     "name": "stdout",
     "output_type": "stream",
     "text": [
      "Variable containing:\n",
      " 40.5000  40.5000\n",
      " 40.5000  40.5000\n",
      "[torch.FloatTensor of size 2x2]\n",
      "\n"
     ]
    }
   ],
   "source": [
    "print(x.grad)"
   ]
  }
 ],
 "metadata": {
  "kernelspec": {
   "display_name": "Python 3",
   "language": "python",
   "name": "python3"
  },
  "language_info": {
   "codemirror_mode": {
    "name": "ipython",
    "version": 3
   },
   "file_extension": ".py",
   "mimetype": "text/x-python",
   "name": "python",
   "nbconvert_exporter": "python",
   "pygments_lexer": "ipython3",
   "version": "3.5.2"
  }
 },
 "nbformat": 4,
 "nbformat_minor": 2
}
